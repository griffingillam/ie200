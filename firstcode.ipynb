{
  "nbformat": 4,
  "nbformat_minor": 0,
  "metadata": {
    "colab": {
      "name": "Untitled0.ipynb",
      "version": "0.3.2",
      "provenance": [],
      "include_colab_link": true
    },
    "kernelspec": {
      "name": "python3",
      "display_name": "Python 3"
    }
  },
  "cells": [
    {
      "cell_type": "markdown",
      "metadata": {
        "id": "view-in-github",
        "colab_type": "text"
      },
      "source": [
        "<a href=\"https://colab.research.google.com/github/griffingillam/ie200/blob/master/firstcode.ipynb\" target=\"_parent\"><img src=\"https://colab.research.google.com/assets/colab-badge.svg\" alt=\"Open In Colab\"/></a>"
      ]
    },
    {
      "cell_type": "markdown",
      "metadata": {
        "id": "FRfvg3TTo43g",
        "colab_type": "text"
      },
      "source": [
        "## My First Code\n"
      ]
    },
    {
      "cell_type": "code",
      "metadata": {
        "id": "bdBTE89vo9ef",
        "colab_type": "code",
        "colab": {}
      },
      "source": [
        "import pandas as pd\n",
        "PATH = 'http://optimizizer.com/data/game-data-200.csv'\n",
        "hands = pd.read_csv(PATH)\n",
        "hands.columns\n",
        "hands[hands.name==\"griffin\"]\n",
        "sbs = hands [ (hands.pcard=='queen') & (hands.position=='first') ]\n"
      ],
      "execution_count": 0,
      "outputs": []
    }
  ]
}